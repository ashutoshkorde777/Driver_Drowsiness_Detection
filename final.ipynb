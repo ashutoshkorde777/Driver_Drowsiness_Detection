{
 "cells": [
  {
   "cell_type": "markdown",
   "metadata": {},
   "source": [
    "Data Preprocess"
   ]
  },
  {
   "cell_type": "code",
   "execution_count": 17,
   "metadata": {},
   "outputs": [],
   "source": [
    "import pandas as pd\n",
    "\n",
    "# Read the Excel file\n",
    "df = pd.read_excel(\"output_data1.xlsx\")\n",
    "\n",
    "# Function to determine prediction based on eye state and yawn\n",
    "def determine_prediction(row):\n",
    "    if row['Eyes Output'] == 'Closed' and row['Mouth Output'] == 'Yawn':\n",
    "        return 'Drowsy'\n",
    "    elif row['Eyes Output'] == 'Closed' and row['Mouth Output'] == 'No Yawn':\n",
    "        return 'Drowsy'\n",
    "    elif row['Eyes Output'] == 'Open' and row['Mouth Output'] == 'Yawn':\n",
    "        return 'Drowsy'\n",
    "    elif row['Eyes Output'] == 'Open' and row['Mouth Output'] == 'No Yawn':\n",
    "        return 'Not Drowsy'\n",
    "\n",
    "# Apply the function to create the \"Prediction\" column\n",
    "df['Prediction'] = df.apply(determine_prediction, axis=1)\n",
    "\n",
    "# Save the modified DataFrame back to the Excel file as \"final_dataset.xlsx\"\n",
    "df.to_excel(\"final_dataset.xlsx\", index=False)\n"
   ]
  },
  {
   "cell_type": "code",
   "execution_count": 18,
   "metadata": {},
   "outputs": [],
   "source": [
    "df1=pd.read_excel(\"final_dataset.xlsx\")"
   ]
  },
  {
   "cell_type": "code",
   "execution_count": 19,
   "metadata": {},
   "outputs": [
    {
     "name": "stdout",
     "output_type": "stream",
     "text": [
      "Accuracy: 1.0\n"
     ]
    }
   ],
   "source": [
    "import pandas as pd\n",
    "from sklearn.ensemble import RandomForestClassifier\n",
    "from sklearn.metrics import accuracy_score\n",
    "from sklearn.model_selection import train_test_split\n",
    "\n",
    "# Assuming df1 is the DataFrame containing the dataset\n",
    "# Select features (EAR, MAR, Eyes Output, Mouth Output) and target column (Prediction)\n",
    "X = df1[['EAR', 'MAR', 'Eyes Output', 'Mouth Output']]\n",
    "y = df1['Prediction']\n",
    "\n",
    "# Convert categorical variables into numerical using one-hot encoding\n",
    "X = pd.get_dummies(X)\n",
    "\n",
    "# Split the data into training and testing sets (using first 4160 rows as training data)\n",
    "X_train, X_test, y_train, y_test = train_test_split(X, y, test_size=1039, shuffle=False)\n",
    "\n",
    "# Initialize the Random Forest classifier\n",
    "rf_classifier = RandomForestClassifier()\n",
    "\n",
    "# Train the classifier\n",
    "rf_classifier.fit(X_train, y_train)\n",
    "\n",
    "# Make predictions on the test set\n",
    "y_pred = rf_classifier.predict(X_test)\n",
    "\n",
    "# Calculate the accuracy of the model\n",
    "accuracy = accuracy_score(y_test, y_pred)\n",
    "print(\"Accuracy:\", accuracy)\n"
   ]
  },
  {
   "cell_type": "code",
   "execution_count": 32,
   "metadata": {},
   "outputs": [
    {
     "name": "stdout",
     "output_type": "stream",
     "text": [
      "Test Set Predictions:\n",
      "      Row Number Predicted Value\n",
      "0           4159      Not Drowsy\n",
      "1           4160      Not Drowsy\n",
      "2           4161      Not Drowsy\n",
      "3           4162      Not Drowsy\n",
      "4           4163      Not Drowsy\n",
      "...          ...             ...\n",
      "1034        5193          Drowsy\n",
      "1035        5194          Drowsy\n",
      "1036        5195          Drowsy\n",
      "1037        5196          Drowsy\n",
      "1038        5197          Drowsy\n",
      "\n",
      "[1039 rows x 2 columns]\n"
     ]
    }
   ],
   "source": [
    "predictions_df = pd.DataFrame({'Row Number': X_test.index, 'Predicted Value': y_pred})\n",
    "\n",
    "# Print the DataFrame containing row numbers and predicted values\n",
    "print(\"Test Set Predictions:\")\n",
    "print(predictions_df)"
   ]
  },
  {
   "cell_type": "code",
   "execution_count": 33,
   "metadata": {},
   "outputs": [
    {
     "name": "stdout",
     "output_type": "stream",
     "text": [
      "Number of features used: 6\n",
      "Features: ['EAR', 'MAR', 'Eyes Output_Closed', 'Eyes Output_Open', 'Mouth Output_No Yawn', 'Mouth Output_Yawn']\n"
     ]
    }
   ],
   "source": [
    "print(\"Number of features used:\", X_train.shape[1])\n",
    "print(\"Features:\", X_train.columns.tolist())"
   ]
  },
  {
   "cell_type": "code",
   "execution_count": 34,
   "metadata": {},
   "outputs": [
    {
     "name": "stdout",
     "output_type": "stream",
     "text": [
      "              precision    recall  f1-score   support\n",
      "\n",
      "      Drowsy       1.00      1.00      1.00       449\n",
      "  Not Drowsy       1.00      1.00      1.00       590\n",
      "\n",
      "    accuracy                           1.00      1039\n",
      "   macro avg       1.00      1.00      1.00      1039\n",
      "weighted avg       1.00      1.00      1.00      1039\n",
      "\n"
     ]
    }
   ],
   "source": [
    "from sklearn.metrics import classification_report\n",
    "\n",
    "# Generate classification report\n",
    "report = classification_report(y_test, y_pred)\n",
    "\n",
    "# Print the classification report\n",
    "print(report)\n"
   ]
  },
  {
   "cell_type": "code",
   "execution_count": 35,
   "metadata": {},
   "outputs": [
    {
     "name": "stdout",
     "output_type": "stream",
     "text": [
      "Model saved successfully as finalmodel.pkl\n"
     ]
    }
   ],
   "source": [
    "import joblib\n",
    "\n",
    "# Save the trained model to a file\n",
    "model_filename = 'finalmodel.pkl'\n",
    "joblib.dump(rf_classifier, model_filename)\n",
    "print(\"Model saved successfully as\", model_filename)\n"
   ]
  }
 ],
 "metadata": {
  "kernelspec": {
   "display_name": "Python 3",
   "language": "python",
   "name": "python3"
  },
  "language_info": {
   "codemirror_mode": {
    "name": "ipython",
    "version": 3
   },
   "file_extension": ".py",
   "mimetype": "text/x-python",
   "name": "python",
   "nbconvert_exporter": "python",
   "pygments_lexer": "ipython3",
   "version": "3.11.9"
  }
 },
 "nbformat": 4,
 "nbformat_minor": 2
}
